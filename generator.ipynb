{
 "cells": [
  {
   "cell_type": "code",
   "execution_count": 1,
   "metadata": {},
   "outputs": [],
   "source": [
    "import numpy as np\n",
    "import cv2\n",
    "import imutils\n",
    "import PIL\n",
    "from PIL import Image, ImageDraw, ImageFilter\n",
    "from argparse import ArgumentParser\n",
    "import glob"
   ]
  },
  {
   "cell_type": "code",
   "execution_count": 2,
   "metadata": {},
   "outputs": [],
   "source": [
    "def motion_blur(blur_img, kernel_size=30):\n",
    "    # Specify the kernel size.\n",
    "    # The greater the size, the more the motion.\n",
    "    kernel_size = kernel_size\n",
    "\n",
    "    # Create the vertical kernel.\n",
    "    kernel_v = np.zeros((kernel_size, kernel_size))\n",
    "\n",
    "    # Fill the middle row with ones.\n",
    "    kernel_v[:, int((kernel_size - 1)/2)] = np.ones(kernel_size)\n",
    "\n",
    "    # Normalize.\n",
    "    kernel_v /= kernel_size\n",
    "\n",
    "    # Apply the vertical kernel.\n",
    "    vertical_mb = cv2.filter2D(blur_img, -1, kernel_v)\n",
    "    \n",
    "    return vertical_mb"
   ]
  },
  {
   "cell_type": "code",
   "execution_count": 3,
   "metadata": {},
   "outputs": [],
   "source": [
    "def rotate_and_blur(img, deg=33, blur_kernel=30):\n",
    "    x = img.shape[0]\n",
    "    y = img.shape[1]\n",
    "    \n",
    "    # rotate blur and rotate back\n",
    "    img = rotate(img, deg)\n",
    "    blured_img = motion_blur(img, kernel_size = blur_kernel)\n",
    "    rotated = rotate(blured_img, deg)\n",
    "    \n",
    "    # crop\n",
    "    x_hat = rotated.shape[0]\n",
    "    y_hat = rotated.shape[1]\n",
    "    \n",
    "    dx = x_hat - x\n",
    "    dy = y_hat - y\n",
    "    \n",
    "    if dx % 2 == 1:\n",
    "        x_hat -= 1\n",
    "        dx -= 1\n",
    "    if dy % 2 == 1:\n",
    "        y_hat -= 1\n",
    "        dy -= 1\n",
    "\n",
    "    \n",
    "    # shape = (x, y)\n",
    "    rotated = rotated[dx//2 : x_hat - (dx//2), dy//2 : y_hat - (dy//2)]\n",
    "    \n",
    "    # shape = (x, y, 1)\n",
    "    rotated = np.expand_dims(rotated[:,:,0], axis=2)\n",
    "    \n",
    "    return rotated"
   ]
  },
  {
   "cell_type": "code",
   "execution_count": 4,
   "metadata": {},
   "outputs": [],
   "source": [
    "def generate_random_lines(imshape,slant,drop_length, rain_count):\n",
    "    drops=[]\n",
    "    \n",
    "    ## If You want heavy rain, try increasing rain_count\n",
    "    for i in range(rain_count):\n",
    "        if slant<0:\n",
    "            x = np.random.randint(slant,imshape[1])\n",
    "            y = np.random.randint(drop_length, imshape[0])\n",
    "        else:\n",
    "            x = np.random.randint(0,imshape[1]-slant)\n",
    "            y = np.random.randint(0,imshape[0]-drop_length)\n",
    "\n",
    "        drops.append((x,y))\n",
    "    return drops\n",
    "\n",
    "# for drop_color\n",
    "c = 200\n"
   ]
  },
  {
   "cell_type": "code",
   "execution_count": 8,
   "metadata": {},
   "outputs": [],
   "source": [
    "def add_rain(image, drop_length=30, slant=0, drop_width=1, drop_color=(c,c,c), rain_count=50):\n",
    "    '''\n",
    "    PARAMS:\n",
    "    image - input image\n",
    "    drop_length - how long rain streaks are\n",
    "    slant - slant angle\n",
    "    drop_width - rain streak thickness\n",
    "    drop_color - color\n",
    "    rain_count - number of droplets\n",
    "    '''\n",
    "    imshape = image.shape\n",
    "    rain_streak_img = np.zeros((imshape[0], imshape[1],imshape[2]))\n",
    "    \n",
    "    rain_drops = generate_random_lines(imshape, slant, drop_length, rain_count)\n",
    "    for rain_drop in rain_drops:\n",
    "        cv2.line(rain_streak_img,(rain_drop[0],rain_drop[1]),(rain_drop[0]+slant,rain_drop[1]+drop_length),drop_color,drop_width)\n",
    "        \n",
    "    rain_streak_img = rotate_and_blur(rain_streak_img, blur_kernel=30)\n",
    "    return rain_streak_img"
   ]
  },
  {
   "cell_type": "code",
   "execution_count": null,
   "metadata": {},
   "outputs": [],
   "source": []
  },
  {
   "cell_type": "code",
   "execution_count": 7,
   "metadata": {},
   "outputs": [
    {
     "ename": "AttributeError",
     "evalue": "'NoneType' object has no attribute 'shape'",
     "output_type": "error",
     "traceback": [
      "\u001b[1;31m---------------------------------------------------------------------------\u001b[0m",
      "\u001b[1;31mAttributeError\u001b[0m                            Traceback (most recent call last)",
      "\u001b[1;32m<ipython-input-7-3ccc275f9706>\u001b[0m in \u001b[0;36m<module>\u001b[1;34m\u001b[0m\n\u001b[0;32m      3\u001b[0m \u001b[1;33m\u001b[0m\u001b[0m\n\u001b[0;32m      4\u001b[0m \u001b[1;32mfor\u001b[0m \u001b[0mi\u001b[0m \u001b[1;32min\u001b[0m \u001b[0mrange\u001b[0m\u001b[1;33m(\u001b[0m\u001b[1;36m20\u001b[0m\u001b[1;33m,\u001b[0m \u001b[1;36m101\u001b[0m\u001b[1;33m,\u001b[0m \u001b[1;36m10\u001b[0m\u001b[1;33m)\u001b[0m\u001b[1;33m:\u001b[0m\u001b[1;33m\u001b[0m\u001b[1;33m\u001b[0m\u001b[0m\n\u001b[1;32m----> 5\u001b[1;33m     \u001b[0mrainy_img\u001b[0m \u001b[1;33m=\u001b[0m \u001b[0madd_rain\u001b[0m\u001b[1;33m(\u001b[0m\u001b[0mimg\u001b[0m\u001b[1;33m,\u001b[0m \u001b[0mrain_count\u001b[0m\u001b[1;33m=\u001b[0m\u001b[0mi\u001b[0m\u001b[1;33m)\u001b[0m\u001b[1;33m\u001b[0m\u001b[1;33m\u001b[0m\u001b[0m\n\u001b[0m\u001b[0;32m      6\u001b[0m     \u001b[0mcv2\u001b[0m\u001b[1;33m.\u001b[0m\u001b[0mimwrite\u001b[0m\u001b[1;33m(\u001b[0m\u001b[1;34mf'testest/just_rain{i}.jpg'\u001b[0m\u001b[1;33m,\u001b[0m  \u001b[0mrainy_img\u001b[0m\u001b[1;33m)\u001b[0m\u001b[1;33m\u001b[0m\u001b[1;33m\u001b[0m\u001b[0m\n\u001b[0;32m      7\u001b[0m \u001b[1;33m\u001b[0m\u001b[0m\n",
      "\u001b[1;32m<ipython-input-6-670f74f2b2d6>\u001b[0m in \u001b[0;36madd_rain\u001b[1;34m(image, drop_length, slant, drop_width, drop_color, rain_count)\u001b[0m\n\u001b[0;32m      9\u001b[0m     \u001b[0mrain_count\u001b[0m \u001b[1;33m-\u001b[0m \u001b[0mnumber\u001b[0m \u001b[0mof\u001b[0m \u001b[0mdroplets\u001b[0m\u001b[1;33m\u001b[0m\u001b[1;33m\u001b[0m\u001b[0m\n\u001b[0;32m     10\u001b[0m     '''\n\u001b[1;32m---> 11\u001b[1;33m     \u001b[0mimshape\u001b[0m \u001b[1;33m=\u001b[0m \u001b[0mimage\u001b[0m\u001b[1;33m.\u001b[0m\u001b[0mshape\u001b[0m\u001b[1;33m\u001b[0m\u001b[1;33m\u001b[0m\u001b[0m\n\u001b[0m\u001b[0;32m     12\u001b[0m     \u001b[0mrain_streak_img\u001b[0m \u001b[1;33m=\u001b[0m \u001b[0mnp\u001b[0m\u001b[1;33m.\u001b[0m\u001b[0mzeros\u001b[0m\u001b[1;33m(\u001b[0m\u001b[1;33m(\u001b[0m\u001b[0mimshape\u001b[0m\u001b[1;33m[\u001b[0m\u001b[1;36m0\u001b[0m\u001b[1;33m]\u001b[0m\u001b[1;33m,\u001b[0m \u001b[0mimshape\u001b[0m\u001b[1;33m[\u001b[0m\u001b[1;36m1\u001b[0m\u001b[1;33m]\u001b[0m\u001b[1;33m,\u001b[0m\u001b[0mimshape\u001b[0m\u001b[1;33m[\u001b[0m\u001b[1;36m2\u001b[0m\u001b[1;33m]\u001b[0m\u001b[1;33m)\u001b[0m\u001b[1;33m)\u001b[0m\u001b[1;33m\u001b[0m\u001b[1;33m\u001b[0m\u001b[0m\n\u001b[0;32m     13\u001b[0m \u001b[1;33m\u001b[0m\u001b[0m\n",
      "\u001b[1;31mAttributeError\u001b[0m: 'NoneType' object has no attribute 'shape'"
     ]
    }
   ],
   "source": [
    "img_path = f\"img/image.jpg\"\n",
    "img = cv2.imread(img_path)\n",
    "\n",
    "for i in range(20, 101, 10):\n",
    "    rainy_img = add_rain(img, rain_count=i)\n",
    "    cv2.imwrite(f'testest/just_rain{i}.jpg',  rainy_img)\n",
    "    cv2.imwrite(f'testest/rainy_img{i}.jpg',  img + rainy_img)"
   ]
  },
  {
   "cell_type": "code",
   "execution_count": null,
   "metadata": {},
   "outputs": [],
   "source": []
  }
 ],
 "metadata": {
  "kernelspec": {
   "display_name": "Python 3",
   "language": "python",
   "name": "python3"
  },
  "language_info": {
   "codemirror_mode": {
    "name": "ipython",
    "version": 3
   },
   "file_extension": ".py",
   "mimetype": "text/x-python",
   "name": "python",
   "nbconvert_exporter": "python",
   "pygments_lexer": "ipython3",
   "version": "3.7.6"
  }
 },
 "nbformat": 4,
 "nbformat_minor": 4
}

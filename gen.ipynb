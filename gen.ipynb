{
 "cells": [
  {
   "cell_type": "code",
   "execution_count": 1,
   "metadata": {},
   "outputs": [],
   "source": [
    "import numpy as np\n",
    "import cv2\n",
    "import imutils\n",
    "import PIL\n",
    "from PIL import Image, ImageDraw, ImageFilter\n",
    "from argparse import ArgumentParser\n",
    "import glob\n"
   ]
  },
  {
   "cell_type": "code",
   "execution_count": null,
   "metadata": {},
   "outputs": [],
   "source": [
    "parser = ArgumentParser(description='Rain Synthesis')\n",
    "\n",
    "# Data parameters\n",
    "# rain params\n",
    "parser.add_argument('-ks', '--kernel-size',\n",
    "                    help='kenel size of motion blur, can be used to increase rain streak size', default='30')\n",
    "parser.add_argument('-dl', '--drop-length', help='rain streak length. best to keep it small', default=10, type=int)\n",
    "parser.add_argument('-dw', '--drop-width', help='thickness of streak', default=1, type=int)\n",
    "parser.add_argument('-deg', '--degree', help='angle of rain streak', default=33, type=int)\n",
    "parser.add_arguemnt('-s', '--slant', help='slant of streak. (don\\'t use since we using rotate)', default=0, type=int) \n",
    "parser.add_argument('-c', '--color', help='rain streak color', default=200, type=int)\n",
    "# parser.add_argument('-rc', '--rain-count', help='rain drop count', default=20, type=int)\n",
    "\n",
    "# dataset\n",
    "parser.add_argument('-dgt', '--data-gt', help='data ground truth root path', default='ground-truth', type=str)\n",
    "parser.add_argument('-dt', '--data-type', help='data img type', default='jpg')\n",
    "\n",
    "# params for creating rain variance dataset\n",
    "parser.add_argument('-rlr', '--rain-lower-range', help='how many different rain types to produce, lower range', default=20, type=int)\n",
    "parser.add_argument('-rur', '--rain-upper-range', help='how many different rain types to produce, upper range', default=101, type=int)\n",
    "parser.add_argument('-ri', '--rain-increment', help='how much to increment every loop. range(rlr, rur, ri)', default=30, type=int)\n",
    "parser.add_argumnet('-r', '--rain-images-count', help='how many different rain images per rain type', default=100, type=int)\n",
    "\n"
   ]
  },
  {
   "cell_type": "code",
   "execution_count": null,
   "metadata": {},
   "outputs": [],
   "source": []
  },
  {
   "cell_type": "code",
   "execution_count": 2,
   "metadata": {},
   "outputs": [],
   "source": [
    "def motion_blur(blur_img, kernel_size=30):\n",
    "    # Specify the kernel size.\n",
    "    # The greater the size, the more the motion.\n",
    "#     kernel_size = args.kernel_size\n",
    "\n",
    "    # Create the vertical kernel.\n",
    "    kernel_v = np.zeros((kernel_size, kernel_size))\n",
    "\n",
    "    # Fill the middle row with ones.\n",
    "    kernel_v[:, int((kernel_size - 1)/2)] = np.ones(kernel_size)\n",
    "\n",
    "    # Normalize.\n",
    "    kernel_v /= kernel_size\n",
    "\n",
    "    # Apply the vertical kernel.\n",
    "    vertical_mb = cv2.filter2D(blur_img, -1, kernel_v)\n",
    "    \n",
    "    return vertical_mb"
   ]
  },
  {
   "cell_type": "code",
   "execution_count": 3,
   "metadata": {},
   "outputs": [],
   "source": [
    "def rotate(img, deg=33):\n",
    "#     deg = args.degree\n",
    "    \n",
    "    rotated = imutils.rotate_bound(img, deg)\n",
    "    return rotated"
   ]
  },
  {
   "cell_type": "code",
   "execution_count": 110,
   "metadata": {},
   "outputs": [],
   "source": [
    "def rotate_and_blur(img, deg=33, blur_kernel=30):\n",
    "#     deg = args.degree\n",
    "#     blur_kernel = args.kernel_size\n",
    "\n",
    "    x = img.shape[0]\n",
    "    y = img.shape[1]\n",
    "    \n",
    "    # enlarge to fit rain in image even if we rotate\n",
    "    x_enlarged = img.shape[1] * 2\n",
    "    y_enlarged = img.shape[0] * 2\n",
    "    \n",
    "    dsize = (x_enlarged, y_enlarged)\n",
    "             \n",
    "    img_enlarged = cv2.resize(img, dsize)\n",
    "\n",
    "    # blur and rotate to desired angle\n",
    "    blured_img = motion_blur(img_enlarged, kernel_size = blur_kernel)\n",
    "    rotated_img = rotate(blured_img, deg)\n",
    "    \n",
    "    # crop\n",
    "    x_hat = rotated_img.shape[0]\n",
    "    y_hat = rotated_img.shape[1]\n",
    "    \n",
    "    dx = x_hat - x\n",
    "    dy = y_hat - y\n",
    "    \n",
    "    # if odd make pixel size even\n",
    "    if dx % 2 == 1:\n",
    "        x_hat -= 1\n",
    "        dx -= 1\n",
    "    if dy % 2 == 1:\n",
    "        y_hat -= 1\n",
    "        dy -= 1\n",
    "        \n",
    "\n",
    "    rotated_img = rotated_img[dx//2 : x_hat - (dx//2), dy//2 : y_hat - (dy//2)]\n",
    "\n",
    "    rotated_img = np.expand_dims(rotated_img[:,:,0], axis=2)\n",
    "    return rotated_img"
   ]
  },
  {
   "cell_type": "code",
   "execution_count": 111,
   "metadata": {},
   "outputs": [],
   "source": [
    "def generate_random_lines(imshape, slant, drop_length, rain_count):\n",
    "    drops=[]\n",
    "    \n",
    "    ## If You want heavy rain, try increasing rain_count\n",
    "    for i in range(rain_count):\n",
    "        if slant<0:\n",
    "            x = np.random.randint(slant, imshape[1])\n",
    "            y = np.random.randint(drop_length, imshape[0])\n",
    "        else:\n",
    "            x = np.random.randint(0,imshape[1]-slant)\n",
    "            y = np.random.randint(0,imshape[0]-drop_length)\n",
    "\n",
    "        drops.append((x,y))\n",
    "    return drops"
   ]
  },
  {
   "cell_type": "code",
   "execution_count": 125,
   "metadata": {},
   "outputs": [],
   "source": [
    "# for drop_color\n",
    "c = 200\n",
    "\n",
    "def add_rain(image, slant=0, drop_length=15, drop_width=1, drop_color=(c,c,c), rain_count=100):\n",
    "    '''\n",
    "    PARAMS:\n",
    "    image - input image\n",
    "    drop_length - how long rain streaks are\n",
    "    slant - slant angle\n",
    "    drop_width - rain streak thickness\n",
    "    drop_color - color\n",
    "    rain_count - number of droplets\n",
    "    '''\n",
    "    imshape = image.shape\n",
    "    \n",
    "    # to have distant effect with darker rain color\n",
    "    alpha = 0.2\n",
    "    background_rain_color = (c * alpha, c * alpha, c * alpha)\n",
    "    \n",
    "    # rain streaks 1\n",
    "    rain_streak_img1 = np.zeros((imshape[0], imshape[1],imshape[2]))\n",
    "    rain_drops = generate_random_lines(imshape,slant,drop_length, rain_count)\n",
    "\n",
    "    for rain_drop in rain_drops:\n",
    "        cv2.line(rain_streak_img1,(rain_drop[0],rain_drop[1]),(rain_drop[0]+slant,rain_drop[1]+drop_length),drop_color,drop_width)\n",
    "        \n",
    "    # rain streaks 2 - darker rain with shorter drop_length to create distance effect\n",
    "    rain_streak_img2 = np.zeros((imshape[0], imshape[1],imshape[2]))\n",
    "    rain_drops = generate_random_lines(imshape,slant,drop_length, rain_count)\n",
    "\n",
    "    for rain_drop in rain_drops:\n",
    "        cv2.line(rain_streak_img2,(rain_drop[0],rain_drop[1]),(rain_drop[0]+slant,rain_drop[1]+int(drop_length*0.8)),background_rain_color,drop_width)\n",
    "        \n",
    "    rain_streak_img1 = rotate_and_blur(rain_streak_img1, blur_kernel=30)\n",
    "    rain_streak_img2 = rotate_and_blur(rain_streak_img2, blur_kernel=30)\n",
    "    \n",
    "    rain_streak_img = rain_streak_img1 + rain_streak_img2\n",
    "    return rain_streak_img"
   ]
  },
  {
   "cell_type": "code",
   "execution_count": 126,
   "metadata": {},
   "outputs": [
    {
     "data": {
      "text/plain": [
       "(430, 300, 3)"
      ]
     },
     "execution_count": 126,
     "metadata": {},
     "output_type": "execute_result"
    }
   ],
   "source": [
    "img_path = './img/image.jpg'\n",
    "img = cv2.imread(f\"{img_path}\")\n",
    "img.shape"
   ]
  },
  {
   "cell_type": "code",
   "execution_count": 127,
   "metadata": {},
   "outputs": [
    {
     "name": "stdout",
     "output_type": "stream",
     "text": [
      "600 860\n",
      "shape: (860, 600, 3)\n",
      "600 860\n",
      "shape: (860, 600, 3)\n",
      "(430, 300, 1)\n"
     ]
    },
    {
     "data": {
      "text/plain": [
       "True"
      ]
     },
     "execution_count": 127,
     "metadata": {},
     "output_type": "execute_result"
    }
   ],
   "source": [
    "rainy_img = add_rain(img)\n",
    "print(rainy_img.shape)\n",
    "cv2.imwrite(f'./img_n{1}_rc{1}_{1}.jpg', rainy_img)\n",
    "cv2.imwrite(f'./img_n{1}_rc{1}_{2}.jpg', img+rainy_img)"
   ]
  },
  {
   "cell_type": "code",
   "execution_count": 104,
   "metadata": {
    "scrolled": true
   },
   "outputs": [
    {
     "name": "stdout",
     "output_type": "stream",
     "text": [
      "(430, 300, 1)\n"
     ]
    }
   ],
   "source": []
  },
  {
   "cell_type": "code",
   "execution_count": null,
   "metadata": {},
   "outputs": [],
   "source": []
  },
  {
   "cell_type": "code",
   "execution_count": null,
   "metadata": {},
   "outputs": [],
   "source": []
  },
  {
   "cell_type": "code",
   "execution_count": null,
   "metadata": {},
   "outputs": [],
   "source": []
  },
  {
   "cell_type": "code",
   "execution_count": null,
   "metadata": {},
   "outputs": [],
   "source": [
    "# call dataset and set params\n",
    "\n",
    "# images_dataset = glob.glob(f'./{args.gt}/*.{args.data_type}')\n",
    "img_path = f\"img/image.jpg\"\n",
    "img = cv2.imread(img_path)\n",
    "\n",
    "# lower_range = args.rain_lower_range\n",
    "# upper_range = args.rain_upper_range\n",
    "# increment = args.rain_increment\n",
    "# img_n = args.rain_image_count\n",
    "    \n",
    "lower_range = 20\n",
    "upper_range = 100\n",
    "increment = 30\n",
    "img_n = 100\n",
    "\n",
    "rain_types = (upper_range - lower_range) // increment + 1"
   ]
  },
  {
   "cell_type": "code",
   "execution_count": 1,
   "metadata": {},
   "outputs": [
    {
     "ename": "NameError",
     "evalue": "name 'add_rain' is not defined",
     "output_type": "error",
     "traceback": [
      "\u001b[1;31m---------------------------------------------------------------------------\u001b[0m",
      "\u001b[1;31mNameError\u001b[0m                                 Traceback (most recent call last)",
      "\u001b[1;32m<ipython-input-1-f6ba23dcb390>\u001b[0m in \u001b[0;36m<module>\u001b[1;34m\u001b[0m\n\u001b[1;32m----> 1\u001b[1;33m \u001b[0mrainy_img\u001b[0m \u001b[1;33m=\u001b[0m \u001b[0madd_rain\u001b[0m\u001b[1;33m(\u001b[0m\u001b[0mimg\u001b[0m\u001b[1;33m,\u001b[0m \u001b[0mrain_count\u001b[0m\u001b[1;33m=\u001b[0m\u001b[1;36m20\u001b[0m\u001b[1;33m)\u001b[0m\u001b[1;33m\u001b[0m\u001b[1;33m\u001b[0m\u001b[0m\n\u001b[0m\u001b[0;32m      2\u001b[0m \u001b[0mcv2\u001b[0m\u001b[1;33m.\u001b[0m\u001b[0mimwrite\u001b[0m\u001b[1;33m(\u001b[0m\u001b[1;34mf'train/img_n_rc{20}_{1}.jpg'\u001b[0m\u001b[1;33m,\u001b[0m  \u001b[0mimg\u001b[0m \u001b[1;33m+\u001b[0m \u001b[0mrainy_img\u001b[0m\u001b[1;33m)\u001b[0m\u001b[1;33m\u001b[0m\u001b[1;33m\u001b[0m\u001b[0m\n",
      "\u001b[1;31mNameError\u001b[0m: name 'add_rain' is not defined"
     ]
    }
   ],
   "source": [
    "# rainy_img = add_rain(img, rain_count=20)\n",
    "# cv2.imwrite(f'train/img_n_rc{20}_{1}.jpg',  img + rainy_img)"
   ]
  },
  {
   "cell_type": "code",
   "execution_count": 2,
   "metadata": {},
   "outputs": [
    {
     "ename": "SyntaxError",
     "evalue": "invalid syntax (<ipython-input-2-9583e51a16f1>, line 26)",
     "output_type": "error",
     "traceback": [
      "\u001b[1;36m  File \u001b[1;32m\"<ipython-input-2-9583e51a16f1>\"\u001b[1;36m, line \u001b[1;32m26\u001b[0m\n\u001b[1;33m    for rain_count in range(lower_range, upper_range+1, increment):\u001b[0m\n\u001b[1;37m                                                                  ^\u001b[0m\n\u001b[1;31mSyntaxError\u001b[0m\u001b[1;31m:\u001b[0m invalid syntax\n"
     ]
    }
   ],
   "source": [
    " # TRAIN\n",
    "for idx, image in enumerate(images_dataset[:int(len(images_dataset) * 0.6 )]):\n",
    "    img = cv2.imread(f\"{image}\")\n",
    "    \n",
    "#     slant = args.slant\n",
    "#     drop_length = args.drop_length\n",
    "#     drop_width = args.drop_width\n",
    "#     drop_color = (args.c, args.c, args.c)\n",
    "    \n",
    "    # 3 rain types\n",
    "    # 100 per type = 500 rainy images per clean image\n",
    "    for rain_count in range(lower_range, upper_range+1, increment):\n",
    "        for i in range(img_n):\n",
    "            rainy_img = add_rain(img, slant, drop_length, drop_width, drop_color, rain_count)\n",
    "            cv2.imwrite(f'train/img_n{idx}_rc{rain_count}_{i}.jpg',  img + rainy_img)\n",
    "\n",
    "# VALIDATION\n",
    "for idx, image in enumerate(images_dataset[int(len(images_dataset) * 0.6) : int(len(images_dataset) * 0.8)]):\n",
    "    img = cv2.imread(f\"{image}\")\n",
    "    idx += img_n * (int(len(images_dataset) * 0.6) * rain_types # for naming sake\n",
    "\n",
    "#     slant = args.slant\n",
    "#     drop_length = args.drop_length\n",
    "#     drop_width = args.drop_width\n",
    "#     drop_color = (args.c, args.c, args.c)\n",
    "    \n",
    "    # 3 rain types\n",
    "    # 100 per type = 500 rainy images per clean image\n",
    "    for rain_count in range(lower_range, upper_range+1, increment):\n",
    "        for i in range(img_n):\n",
    "            rainy_img = add_rain(img, rain_count=rain_count)\n",
    "            cv2.imwrite(f'validation/img_n{idx}_rc{rain_count}_{i}.jpg', img + rainy_img)\n",
    "\n",
    "# TEST\n",
    "for idx, image in enumerate(images_dataset[int(len(images_dataset) * 0.8): ]):\n",
    "    img = cv2.imread(f\"{image}\")\n",
    "    idx = img_n * (int(len(images_dataset) * 0.8)) * rain_types # for naming sake\n",
    "\n",
    "#     slant = args.slant\n",
    "#     drop_length = args.drop_length\n",
    "#     drop_width = args.drop_width\n",
    "#     drop_color = (args.c, args.c, args.c)\n",
    "    \n",
    "    # 3 rain types\n",
    "    # 100 per type = 500 rainy images per clean image\n",
    "    for rain_count in range(lower_range, upper_range+1, increment):\n",
    "        for i in range(img_n):\n",
    "            rainy_img = add_rain(img, rain_count=rain_count)\n",
    "            cv2.imwrite(f'test/img_n{idx}_rc{rain_count}_{i}.jpg', img + rainy_img)\n"
   ]
  },
  {
   "cell_type": "code",
   "execution_count": 5,
   "metadata": {},
   "outputs": [
    {
     "data": {
      "text/plain": [
       "34.0"
      ]
     },
     "execution_count": 5,
     "metadata": {},
     "output_type": "execute_result"
    }
   ],
   "source": [
    "34.5 //1"
   ]
  },
  {
   "cell_type": "code",
   "execution_count": null,
   "metadata": {},
   "outputs": [],
   "source": []
  },
  {
   "cell_type": "code",
   "execution_count": null,
   "metadata": {},
   "outputs": [],
   "source": []
  }
 ],
 "metadata": {
  "kernelspec": {
   "display_name": "Python 3",
   "language": "python",
   "name": "python3"
  },
  "language_info": {
   "codemirror_mode": {
    "name": "ipython",
    "version": 3
   },
   "file_extension": ".py",
   "mimetype": "text/x-python",
   "name": "python",
   "nbconvert_exporter": "python",
   "pygments_lexer": "ipython3",
   "version": "3.7.6"
  }
 },
 "nbformat": 4,
 "nbformat_minor": 4
}

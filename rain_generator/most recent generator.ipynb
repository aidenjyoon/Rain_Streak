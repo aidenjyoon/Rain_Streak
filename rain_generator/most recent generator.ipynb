{
 "cells": [
  {
   "cell_type": "code",
   "execution_count": 1,
   "metadata": {},
   "outputs": [],
   "source": [
    "import numpy as np\n",
    "import cv2\n",
    "import imutils\n",
    "import PIL\n",
    "from PIL import Image, ImageDraw, ImageFilter\n",
    "from argparse import ArgumentParser\n",
    "import glob"
   ]
  },
  {
   "cell_type": "markdown",
   "metadata": {},
   "source": [
    "# parse variables"
   ]
  },
  {
   "cell_type": "code",
   "execution_count": null,
   "metadata": {},
   "outputs": [],
   "source": [
    "def parse_args():\n",
    "    \"\"\"Command-line argument for rain synthesis\"\"\"\n",
    "\n",
    "    # New parser\n",
    "    parser = ArgumentParser(description='Rain Synthesis')\n",
    "\n",
    "    # Data parameters\n",
    "    parser.add_argument('-ks', '--kernel-size',\n",
    "                        help='kenel size of motion blur, can be used to increase rain streak size', default='30')\n",
    "    parser.add_argument('-dl', '--drop-length', help='rain streak length. best to keep it small', default=20, type=int)\n",
    "    parser.add_argument('-dw', '--drop-width', help='thickness of streak', default=1, type=int)\n",
    "    parser.add_arguemnt('-s', '--slant', help='slant of streak', default=0, type=int)\n",
    "    parser.add_argument('-c', '--color', help='rain streak color', default=200, type=int)\n",
    "    parser.add_argument('-rc', '--rain-count', help='rain drop count', default=20, type=int)\n",
    "    \n",
    "\n",
    "    return parser.parse_args()"
   ]
  },
  {
   "cell_type": "markdown",
   "metadata": {},
   "source": [
    "# helper functions"
   ]
  },
  {
   "cell_type": "code",
   "execution_count": 2,
   "metadata": {},
   "outputs": [],
   "source": [
    "def motion_blur(blur_img, kernel_size=30):\n",
    "    # Specify the kernel size.\n",
    "    # The greater the size, the more the motion.\n",
    "    kernel_size = kernel_size\n",
    "\n",
    "    # Create the vertical kernel.\n",
    "    kernel_v = np.zeros((kernel_size, kernel_size))\n",
    "\n",
    "    # Fill the middle row with ones.\n",
    "    kernel_v[:, int((kernel_size - 1)/2)] = np.ones(kernel_size)\n",
    "\n",
    "    # Normalize.\n",
    "    kernel_v /= kernel_size\n",
    "\n",
    "    # Apply the vertical kernel.\n",
    "    vertical_mb = cv2.filter2D(blur_img, -1, kernel_v)\n",
    "    \n",
    "    return vertical_mb"
   ]
  },
  {
   "cell_type": "code",
   "execution_count": 3,
   "metadata": {},
   "outputs": [],
   "source": [
    "def rotate(img, deg=33):\n",
    "    rotated = imutils.rotate_bound(img, deg)\n",
    "    return rotated"
   ]
  },
  {
   "cell_type": "code",
   "execution_count": 4,
   "metadata": {},
   "outputs": [],
   "source": [
    "def rotate_and_blur(img, deg=33, blur_kernel=30):\n",
    "    x = img.shape[0]\n",
    "    y = img.shape[1]\n",
    "    \n",
    "    # rotate blur and rotate back\n",
    "    img = rotate(img, deg)\n",
    "    blured_img = motion_blur(img, kernel_size = blur_kernel)\n",
    "    rotated = rotate(blured_img, deg)\n",
    "    \n",
    "    # crop\n",
    "    x_hat = rotated.shape[0]\n",
    "    y_hat = rotated.shape[1]\n",
    "    \n",
    "    dx = x_hat - x\n",
    "    dy = y_hat - y\n",
    "    \n",
    "    if dx % 2 == 1:\n",
    "        x_hat -= 1\n",
    "        dx -= 1\n",
    "    if dy % 2 == 1:\n",
    "        y_hat -= 1\n",
    "        dy -= 1\n",
    "        \n",
    "#     print(x, y)\n",
    "#     print(x_hat, y_hat)\n",
    "    \n",
    "    # shape = (x, y)\n",
    "    rotated = rotated[dx//2 : x_hat - (dx//2), dy//2 : y_hat - (dy//2)]\n",
    "    \n",
    "    # shape = (x, y, 1)\n",
    "    rotated = np.expand_dims(rotated[:,:,0], axis=2)\n",
    "    return rotated"
   ]
  },
  {
   "cell_type": "code",
   "execution_count": 5,
   "metadata": {},
   "outputs": [],
   "source": [
    "def generate_random_lines(imshape,slant,drop_length, rain_count):\n",
    "    drops=[]\n",
    "    \n",
    "    ## If You want heavy rain, try increasing rain_count\n",
    "    for i in range(rain_count):\n",
    "        if slant<0:\n",
    "            x = np.random.randint(slant,imshape[1])\n",
    "            y = np.random.randint(drop_length, imshape[0])\n",
    "        else:\n",
    "            x = np.random.randint(0,imshape[1]-slant)\n",
    "            y = np.random.randint(0,imshape[0]-drop_length)\n",
    "\n",
    "        drops.append((x,y))\n",
    "    return drops\n",
    "\n",
    "# for drop_color\n",
    "c = 200\n",
    "\n",
    "def add_rain(image, drop_length=30, slant=0, drop_width=1, drop_color=(c,c,c), rain_count=50):\n",
    "    '''\n",
    "    PARAMS:\n",
    "    image - input image\n",
    "    drop_length - how long rain streaks are\n",
    "    slant - slant angle\n",
    "    drop_width - rain streak thickness\n",
    "    drop_color - color\n",
    "    rain_count - number of droplets\n",
    "    '''\n",
    "    imshape = image.shape\n",
    "    rain_streak_img = np.zeros((imshape[0], imshape[1],imshape[2]))\n",
    "    \n",
    "    rain_drops = generate_random_lines(imshape,slant,drop_length, rain_count)\n",
    "    for rain_drop in rain_drops:\n",
    "        cv2.line(rain_streak_img,(rain_drop[0],rain_drop[1]),(rain_drop[0]+slant,rain_drop[1]+drop_length),drop_color,drop_width)\n",
    "        \n",
    "    rain_streak_img = rotate_and_blur(rain_streak_img, blur_kernel=30)\n",
    "    return rain_streak_img"
   ]
  },
  {
   "cell_type": "code",
   "execution_count": 18,
   "metadata": {},
   "outputs": [
    {
     "data": {
      "text/plain": [
       "(430, 300, 3)"
      ]
     },
     "execution_count": 18,
     "metadata": {},
     "output_type": "execute_result"
    }
   ],
   "source": [
    "img_path = 'rain.jpg'\n",
    "img = cv2.imread(f\"{img_path}\")\n",
    "img.shape"
   ]
  },
  {
   "cell_type": "code",
   "execution_count": 24,
   "metadata": {},
   "outputs": [
    {
     "data": {
      "text/plain": [
       "True"
      ]
     },
     "execution_count": 24,
     "metadata": {},
     "output_type": "execute_result"
    }
   ],
   "source": [
    "rainy_img = add_rain(img)\n",
    "cv2.imwrite(f'./img_n{1}_rc{1}_{1}.jpg', rainy_img)\n",
    "cv2.imwrite(f'./img_n{1}_rc{1}_{2}.jpg', img+rainy_img)"
   ]
  },
  {
   "cell_type": "code",
   "execution_count": 23,
   "metadata": {},
   "outputs": [
    {
     "data": {
      "text/plain": [
       "True"
      ]
     },
     "execution_count": 23,
     "metadata": {},
     "output_type": "execute_result"
    }
   ],
   "source": []
  },
  {
   "cell_type": "code",
   "execution_count": 6,
   "metadata": {},
   "outputs": [],
   "source": [
    "\n",
    "images = glob.glob('./all-dogs/*')"
   ]
  },
  {
   "cell_type": "code",
   "execution_count": 7,
   "metadata": {},
   "outputs": [],
   "source": [
    "# train\n",
    "for idx, image in enumerate(images[:int(len(images) * 0.6 )]):\n",
    "    img = cv2.imread(f\"{image}\")\n",
    "    \n",
    "    # 5 rain types\n",
    "    # 100 per type = 500 rainy images per clean image\n",
    "    for rain_count in range(20, 101, 10):\n",
    "        for i in range(100):\n",
    "            rainy_img = add_rain(img, rain_count=rain_count)\n",
    "            cv2.imwrite(f'train/img_n{idx}_rc{rain_count}_{i}.jpg',  img + rainy_img)\n",
    "            "
   ]
  },
  {
   "cell_type": "code",
   "execution_count": 8,
   "metadata": {},
   "outputs": [],
   "source": [
    "# validation\n",
    "for idx, image in enumerate(images[int(len(images) * 0.6) : int(len(images) * 0.8)]):\n",
    "    img = cv2.imread(f\"{image}\")\n",
    "    idx += 12347 # for naming sake\n",
    "    \n",
    "    # 5 rain types\n",
    "    # 100 per type = 500 rainy images per clean image\n",
    "    for rain_count in range(20, 101, 10):\n",
    "        for i in range(100):\n",
    "            rainy_img = add_rain(img, rain_count=rain_count)\n",
    "            cv2.imwrite(f'validation/img_n{idx}_rc{rain_count}_{i}.jpg', img + rainy_img)\n"
   ]
  },
  {
   "cell_type": "code",
   "execution_count": 9,
   "metadata": {},
   "outputs": [],
   "source": [
    "# test\n",
    "for idx, image in enumerate(images[int(len(images) * 0.8): ]):\n",
    "    img = cv2.imread(f\"{image}\")\n",
    "    idx = 16463 # for naming sake\n",
    "    \n",
    "    # 5 rain types\n",
    "    # 100 per type = 500 rainy images per clean image\n",
    "    for rain_count in range(20, 101, 10):\n",
    "        for i in range(100):\n",
    "            rainy_img = add_rain(img, rain_count=rain_count)\n",
    "            cv2.imwrite(f'test/img_n{idx}_rc{rain_count}_{i}.jpg', img + rainy_img)\n",
    "            "
   ]
  },
  {
   "cell_type": "code",
   "execution_count": null,
   "metadata": {},
   "outputs": [],
   "source": []
  }
 ],
 "metadata": {
  "kernelspec": {
   "display_name": "Python 3",
   "language": "python",
   "name": "python3"
  },
  "language_info": {
   "codemirror_mode": {
    "name": "ipython",
    "version": 3
   },
   "file_extension": ".py",
   "mimetype": "text/x-python",
   "name": "python",
   "nbconvert_exporter": "python",
   "pygments_lexer": "ipython3",
   "version": "3.7.6"
  }
 },
 "nbformat": 4,
 "nbformat_minor": 4
}
